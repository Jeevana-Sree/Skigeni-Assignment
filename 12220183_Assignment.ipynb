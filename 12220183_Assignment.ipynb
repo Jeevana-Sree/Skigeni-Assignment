{
 "cells": [
  {
   "cell_type": "markdown",
   "id": "f4a5f124",
   "metadata": {},
   "source": [
    "## Skygeni Assignment \n",
    "\n",
    "#### Submitted by Jeevana Sree B (12220183)\n",
    "\n",
    "I have been given 4 csv files - `subscribtion_information.csv`,`payment_information.csv`,`industry_clients_details.csv` and `finanical_information.csv`. This assignment involves analyzing this four datasets to derive meaningful insights and find answers to the given questions."
   ]
  },
  {
   "cell_type": "markdown",
   "id": "4e3dc731",
   "metadata": {},
   "source": [
    "### Importing necessary libraries"
   ]
  },
  {
   "cell_type": "code",
   "execution_count": 178,
   "id": "f764d561",
   "metadata": {},
   "outputs": [],
   "source": [
    "import pandas as pd # data handling and manipulation\n",
    "import matplotlib.pyplot as plt # Basic Visualization\n",
    "import seaborn as sns # Advanaced Visualization"
   ]
  },
  {
   "cell_type": "markdown",
   "id": "61a299a3",
   "metadata": {},
   "source": [
    "### Loading Data "
   ]
  },
  {
   "cell_type": "code",
   "execution_count": 93,
   "id": "1cc3141a",
   "metadata": {},
   "outputs": [],
   "source": [
    "finanical_df = pd.read_csv('finanical_information.csv')\n",
    "industry_df = pd.read_csv('industry_client_details.csv')\n",
    "payments_df = pd.read_csv('payment_information.csv')\n",
    "subscription_df = pd.read_csv('subscription_information.csv')"
   ]
  },
  {
   "cell_type": "markdown",
   "id": "6faae641",
   "metadata": {},
   "source": [
    "### Data Inspection and Cleaning"
   ]
  },
  {
   "cell_type": "markdown",
   "id": "48add957",
   "metadata": {},
   "source": [
    "#### 1. Finanical Data"
   ]
  },
  {
   "cell_type": "code",
   "execution_count": 52,
   "id": "36599d6c",
   "metadata": {},
   "outputs": [
    {
     "data": {
      "text/html": [
       "<div>\n",
       "<style scoped>\n",
       "    .dataframe tbody tr th:only-of-type {\n",
       "        vertical-align: middle;\n",
       "    }\n",
       "\n",
       "    .dataframe tbody tr th {\n",
       "        vertical-align: top;\n",
       "    }\n",
       "\n",
       "    .dataframe thead th {\n",
       "        text-align: right;\n",
       "    }\n",
       "</style>\n",
       "<table border=\"1\" class=\"dataframe\">\n",
       "  <thead>\n",
       "    <tr style=\"text-align: right;\">\n",
       "      <th></th>\n",
       "      <th>Unnamed: 0</th>\n",
       "      <th>start_date</th>\n",
       "      <th>end_date</th>\n",
       "      <th>inflation_rate</th>\n",
       "      <th>gdp_growth_rate</th>\n",
       "    </tr>\n",
       "  </thead>\n",
       "  <tbody>\n",
       "    <tr>\n",
       "      <th>0</th>\n",
       "      <td>0</td>\n",
       "      <td>2018-01-01</td>\n",
       "      <td>2018-03-31</td>\n",
       "      <td>5.77</td>\n",
       "      <td>3.51</td>\n",
       "    </tr>\n",
       "    <tr>\n",
       "      <th>1</th>\n",
       "      <td>1</td>\n",
       "      <td>2018-04-01</td>\n",
       "      <td>2018-06-30</td>\n",
       "      <td>1.17</td>\n",
       "      <td>2.15</td>\n",
       "    </tr>\n",
       "    <tr>\n",
       "      <th>2</th>\n",
       "      <td>2</td>\n",
       "      <td>2018-07-01</td>\n",
       "      <td>2018-09-30</td>\n",
       "      <td>1.56</td>\n",
       "      <td>1.82</td>\n",
       "    </tr>\n",
       "    <tr>\n",
       "      <th>3</th>\n",
       "      <td>3</td>\n",
       "      <td>2018-10-01</td>\n",
       "      <td>2018-12-31</td>\n",
       "      <td>2.78</td>\n",
       "      <td>2.43</td>\n",
       "    </tr>\n",
       "    <tr>\n",
       "      <th>4</th>\n",
       "      <td>4</td>\n",
       "      <td>2019-01-01</td>\n",
       "      <td>2019-03-31</td>\n",
       "      <td>6.91</td>\n",
       "      <td>3.44</td>\n",
       "    </tr>\n",
       "  </tbody>\n",
       "</table>\n",
       "</div>"
      ],
      "text/plain": [
       "   Unnamed: 0  start_date    end_date  inflation_rate  gdp_growth_rate\n",
       "0           0  2018-01-01  2018-03-31            5.77             3.51\n",
       "1           1  2018-04-01  2018-06-30            1.17             2.15\n",
       "2           2  2018-07-01  2018-09-30            1.56             1.82\n",
       "3           3  2018-10-01  2018-12-31            2.78             2.43\n",
       "4           4  2019-01-01  2019-03-31            6.91             3.44"
      ]
     },
     "execution_count": 52,
     "metadata": {},
     "output_type": "execute_result"
    }
   ],
   "source": [
    "# display the first 5 rows\n",
    "finanical_df.head()"
   ]
  },
  {
   "cell_type": "code",
   "execution_count": 53,
   "id": "e9e6bd56",
   "metadata": {
    "scrolled": true
   },
   "outputs": [
    {
     "data": {
      "text/plain": [
       "(21, 5)"
      ]
     },
     "execution_count": 53,
     "metadata": {},
     "output_type": "execute_result"
    }
   ],
   "source": [
    "# No of rows and columns\n",
    "finanical_df.shape"
   ]
  },
  {
   "cell_type": "code",
   "execution_count": 54,
   "id": "68d7d7ee",
   "metadata": {},
   "outputs": [
    {
     "name": "stdout",
     "output_type": "stream",
     "text": [
      "<class 'pandas.core.frame.DataFrame'>\n",
      "RangeIndex: 21 entries, 0 to 20\n",
      "Data columns (total 5 columns):\n",
      " #   Column           Non-Null Count  Dtype  \n",
      "---  ------           --------------  -----  \n",
      " 0   Unnamed: 0       21 non-null     int64  \n",
      " 1   start_date       21 non-null     object \n",
      " 2   end_date         21 non-null     object \n",
      " 3   inflation_rate   21 non-null     float64\n",
      " 4   gdp_growth_rate  21 non-null     float64\n",
      "dtypes: float64(2), int64(1), object(2)\n",
      "memory usage: 968.0+ bytes\n"
     ]
    }
   ],
   "source": [
    "# information about dataframe\n",
    "finanical_df.info()"
   ]
  },
  {
   "cell_type": "code",
   "execution_count": 55,
   "id": "2e9a312a",
   "metadata": {},
   "outputs": [
    {
     "data": {
      "text/plain": [
       "['Unnamed: 0', 'start_date', 'end_date', 'inflation_rate', 'gdp_growth_rate']"
      ]
     },
     "execution_count": 55,
     "metadata": {},
     "output_type": "execute_result"
    }
   ],
   "source": [
    "# to check columns\n",
    "finanical_df.columns.tolist()"
   ]
  },
  {
   "cell_type": "code",
   "execution_count": 56,
   "id": "c7c992e1",
   "metadata": {
    "scrolled": true
   },
   "outputs": [
    {
     "data": {
      "text/html": [
       "<div>\n",
       "<style scoped>\n",
       "    .dataframe tbody tr th:only-of-type {\n",
       "        vertical-align: middle;\n",
       "    }\n",
       "\n",
       "    .dataframe tbody tr th {\n",
       "        vertical-align: top;\n",
       "    }\n",
       "\n",
       "    .dataframe thead th {\n",
       "        text-align: right;\n",
       "    }\n",
       "</style>\n",
       "<table border=\"1\" class=\"dataframe\">\n",
       "  <thead>\n",
       "    <tr style=\"text-align: right;\">\n",
       "      <th></th>\n",
       "      <th>Unnamed: 0</th>\n",
       "      <th>inflation_rate</th>\n",
       "      <th>gdp_growth_rate</th>\n",
       "    </tr>\n",
       "  </thead>\n",
       "  <tbody>\n",
       "    <tr>\n",
       "      <th>count</th>\n",
       "      <td>21.000000</td>\n",
       "      <td>21.000000</td>\n",
       "      <td>21.000000</td>\n",
       "    </tr>\n",
       "    <tr>\n",
       "      <th>mean</th>\n",
       "      <td>10.000000</td>\n",
       "      <td>4.426667</td>\n",
       "      <td>2.345238</td>\n",
       "    </tr>\n",
       "    <tr>\n",
       "      <th>std</th>\n",
       "      <td>6.204837</td>\n",
       "      <td>2.245801</td>\n",
       "      <td>0.952747</td>\n",
       "    </tr>\n",
       "    <tr>\n",
       "      <th>min</th>\n",
       "      <td>0.000000</td>\n",
       "      <td>0.760000</td>\n",
       "      <td>1.040000</td>\n",
       "    </tr>\n",
       "    <tr>\n",
       "      <th>25%</th>\n",
       "      <td>5.000000</td>\n",
       "      <td>2.710000</td>\n",
       "      <td>1.360000</td>\n",
       "    </tr>\n",
       "    <tr>\n",
       "      <th>50%</th>\n",
       "      <td>10.000000</td>\n",
       "      <td>4.400000</td>\n",
       "      <td>2.400000</td>\n",
       "    </tr>\n",
       "    <tr>\n",
       "      <th>75%</th>\n",
       "      <td>15.000000</td>\n",
       "      <td>6.760000</td>\n",
       "      <td>3.440000</td>\n",
       "    </tr>\n",
       "    <tr>\n",
       "      <th>max</th>\n",
       "      <td>20.000000</td>\n",
       "      <td>7.710000</td>\n",
       "      <td>3.630000</td>\n",
       "    </tr>\n",
       "  </tbody>\n",
       "</table>\n",
       "</div>"
      ],
      "text/plain": [
       "       Unnamed: 0  inflation_rate  gdp_growth_rate\n",
       "count   21.000000       21.000000        21.000000\n",
       "mean    10.000000        4.426667         2.345238\n",
       "std      6.204837        2.245801         0.952747\n",
       "min      0.000000        0.760000         1.040000\n",
       "25%      5.000000        2.710000         1.360000\n",
       "50%     10.000000        4.400000         2.400000\n",
       "75%     15.000000        6.760000         3.440000\n",
       "max     20.000000        7.710000         3.630000"
      ]
     },
     "execution_count": 56,
     "metadata": {},
     "output_type": "execute_result"
    }
   ],
   "source": [
    "# Statistical summary\n",
    "finanical_df.describe()"
   ]
  },
  {
   "cell_type": "markdown",
   "id": "03cc4a65",
   "metadata": {},
   "source": [
    "- the finanical data contains 21 rows and 5 columns\n",
    "- `start_date` and `end_date` says about the finanical periods (in string data type)\n",
    "- `inflation_rate` and `gdp_growth_rate` represents the inflation and gdp growth during the financial periods\n",
    "- `unnamed` it looks like the index column of the data frame"
   ]
  },
  {
   "cell_type": "code",
   "execution_count": 57,
   "id": "009a3658",
   "metadata": {},
   "outputs": [
    {
     "data": {
      "text/plain": [
       "Unnamed: 0         0\n",
       "start_date         0\n",
       "end_date           0\n",
       "inflation_rate     0\n",
       "gdp_growth_rate    0\n",
       "dtype: int64"
      ]
     },
     "execution_count": 57,
     "metadata": {},
     "output_type": "execute_result"
    }
   ],
   "source": [
    "# Check for any missing values\n",
    "finanical_df.isnull().sum()"
   ]
  },
  {
   "cell_type": "code",
   "execution_count": 58,
   "id": "65564424",
   "metadata": {},
   "outputs": [
    {
     "data": {
      "text/plain": [
       "0"
      ]
     },
     "execution_count": 58,
     "metadata": {},
     "output_type": "execute_result"
    }
   ],
   "source": [
    "# check for duplicate values\n",
    "duplicate_count = finanical_df.duplicated().sum()\n",
    "duplicate_count"
   ]
  },
  {
   "cell_type": "markdown",
   "id": "5277d135",
   "metadata": {},
   "source": [
    "There are no missing values and duplicate values.<br> \n",
    "So, we can move on the handle `unnamed: 0` column and converting `start_date`, `end_date` columns into datetime format"
   ]
  },
  {
   "cell_type": "code",
   "execution_count": 59,
   "id": "6bf6fb49",
   "metadata": {},
   "outputs": [],
   "source": [
    "# Since unnamed column also says about the index of the data frame it better to remove the unncessary column\n",
    "# removing 'unnamed: 0' column\n",
    "finanical_df.drop(columns=['Unnamed: 0'], inplace=True)"
   ]
  },
  {
   "cell_type": "markdown",
   "id": "c0ec5431",
   "metadata": {},
   "source": [
    "**inplace = True** modifies the original dataframe directly instead of creating a new one."
   ]
  },
  {
   "cell_type": "code",
   "execution_count": 60,
   "id": "0e1ee719",
   "metadata": {},
   "outputs": [],
   "source": [
    "# Convert 'start_date' and 'end_date' columns to datetime format\n",
    "finanical_df['start_date'] = pd.to_datetime(finanical_df['start_date'])\n",
    "finanical_df['end_date'] = pd.to_datetime(finanical_df['end_date'])"
   ]
  },
  {
   "cell_type": "code",
   "execution_count": 114,
   "id": "d7943fe9",
   "metadata": {},
   "outputs": [],
   "source": [
    "# Ensure 'inflation_rate' and 'gdp_growth_rate' are clean floats column\n",
    "finanical_df['inflation_rate'] = pd.to_numeric(finanical_df['inflation_rate'], errors='coerce')\n",
    "finanical_df['gdp_growth_rate'] = pd.to_numeric(finanical_df['gdp_growth_rate'], errors='coerce')"
   ]
  },
  {
   "cell_type": "code",
   "execution_count": 61,
   "id": "2d1e6fcc",
   "metadata": {},
   "outputs": [
    {
     "name": "stdout",
     "output_type": "stream",
     "text": [
      "<class 'pandas.core.frame.DataFrame'>\n",
      "RangeIndex: 21 entries, 0 to 20\n",
      "Data columns (total 4 columns):\n",
      " #   Column           Non-Null Count  Dtype         \n",
      "---  ------           --------------  -----         \n",
      " 0   start_date       21 non-null     datetime64[ns]\n",
      " 1   end_date         21 non-null     datetime64[ns]\n",
      " 2   inflation_rate   21 non-null     float64       \n",
      " 3   gdp_growth_rate  21 non-null     float64       \n",
      "dtypes: datetime64[ns](2), float64(2)\n",
      "memory usage: 800.0 bytes\n"
     ]
    },
    {
     "data": {
      "text/plain": [
       "(None,\n",
       "   start_date   end_date  inflation_rate  gdp_growth_rate\n",
       " 0 2018-01-01 2018-03-31            5.77             3.51\n",
       " 1 2018-04-01 2018-06-30            1.17             2.15\n",
       " 2 2018-07-01 2018-09-30            1.56             1.82\n",
       " 3 2018-10-01 2018-12-31            2.78             2.43\n",
       " 4 2019-01-01 2019-03-31            6.91             3.44)"
      ]
     },
     "execution_count": 61,
     "metadata": {},
     "output_type": "execute_result"
    }
   ],
   "source": [
    "# Show the cleaned DataFrame info and first few rows\n",
    "finanical_df.info(), finanical_df.head()"
   ]
  },
  {
   "cell_type": "markdown",
   "id": "fde4efa6",
   "metadata": {},
   "source": [
    "#### 2. Industry Clienta Dataset"
   ]
  },
  {
   "cell_type": "code",
   "execution_count": 62,
   "id": "e62a46b7",
   "metadata": {},
   "outputs": [
    {
     "data": {
      "text/html": [
       "<div>\n",
       "<style scoped>\n",
       "    .dataframe tbody tr th:only-of-type {\n",
       "        vertical-align: middle;\n",
       "    }\n",
       "\n",
       "    .dataframe tbody tr th {\n",
       "        vertical-align: top;\n",
       "    }\n",
       "\n",
       "    .dataframe thead th {\n",
       "        text-align: right;\n",
       "    }\n",
       "</style>\n",
       "<table border=\"1\" class=\"dataframe\">\n",
       "  <thead>\n",
       "    <tr style=\"text-align: right;\">\n",
       "      <th></th>\n",
       "      <th>client_id</th>\n",
       "      <th>company_size</th>\n",
       "      <th>industry</th>\n",
       "      <th>location</th>\n",
       "    </tr>\n",
       "  </thead>\n",
       "  <tbody>\n",
       "    <tr>\n",
       "      <th>0</th>\n",
       "      <td>4280387012</td>\n",
       "      <td>Large</td>\n",
       "      <td>Finance Lending</td>\n",
       "      <td>Mumbai</td>\n",
       "    </tr>\n",
       "    <tr>\n",
       "      <th>1</th>\n",
       "      <td>2095513148</td>\n",
       "      <td>Small</td>\n",
       "      <td>Finance Lending</td>\n",
       "      <td>Chennai</td>\n",
       "    </tr>\n",
       "    <tr>\n",
       "      <th>2</th>\n",
       "      <td>7225516707</td>\n",
       "      <td>Medium</td>\n",
       "      <td>Finance Lending</td>\n",
       "      <td>New Delhi</td>\n",
       "    </tr>\n",
       "    <tr>\n",
       "      <th>3</th>\n",
       "      <td>8093537819</td>\n",
       "      <td>Large</td>\n",
       "      <td>Block Chain</td>\n",
       "      <td>Mumbai</td>\n",
       "    </tr>\n",
       "    <tr>\n",
       "      <th>4</th>\n",
       "      <td>4387541014</td>\n",
       "      <td>Medium</td>\n",
       "      <td>Hyper Local</td>\n",
       "      <td>Banglore</td>\n",
       "    </tr>\n",
       "  </tbody>\n",
       "</table>\n",
       "</div>"
      ],
      "text/plain": [
       "    client_id company_size         industry   location\n",
       "0  4280387012        Large  Finance Lending     Mumbai\n",
       "1  2095513148        Small  Finance Lending    Chennai\n",
       "2  7225516707       Medium  Finance Lending  New Delhi\n",
       "3  8093537819        Large      Block Chain     Mumbai\n",
       "4  4387541014       Medium      Hyper Local   Banglore"
      ]
     },
     "execution_count": 62,
     "metadata": {},
     "output_type": "execute_result"
    }
   ],
   "source": [
    "# show first 5 rows()\n",
    "industry_df.head()"
   ]
  },
  {
   "cell_type": "code",
   "execution_count": 63,
   "id": "abaf0552",
   "metadata": {},
   "outputs": [
    {
     "name": "stdout",
     "output_type": "stream",
     "text": [
      "<class 'pandas.core.frame.DataFrame'>\n",
      "RangeIndex: 100 entries, 0 to 99\n",
      "Data columns (total 4 columns):\n",
      " #   Column        Non-Null Count  Dtype \n",
      "---  ------        --------------  ----- \n",
      " 0   client_id     100 non-null    int64 \n",
      " 1   company_size  100 non-null    object\n",
      " 2   industry      100 non-null    object\n",
      " 3   location      100 non-null    object\n",
      "dtypes: int64(1), object(3)\n",
      "memory usage: 3.2+ KB\n"
     ]
    }
   ],
   "source": [
    "# information about dataset\n",
    "industry_df.info()"
   ]
  },
  {
   "cell_type": "code",
   "execution_count": 64,
   "id": "e26b0fc5",
   "metadata": {},
   "outputs": [
    {
     "data": {
      "text/plain": [
       "(100, 4)"
      ]
     },
     "execution_count": 64,
     "metadata": {},
     "output_type": "execute_result"
    }
   ],
   "source": [
    "# No of rows and Columns\n",
    "industry_df.shape"
   ]
  },
  {
   "cell_type": "markdown",
   "id": "21b82239",
   "metadata": {},
   "source": [
    "The datset contains 100 rows and 4 columns"
   ]
  },
  {
   "cell_type": "code",
   "execution_count": 65,
   "id": "6eca1987",
   "metadata": {},
   "outputs": [
    {
     "data": {
      "text/plain": [
       "client_id       0\n",
       "company_size    0\n",
       "industry        0\n",
       "location        0\n",
       "dtype: int64"
      ]
     },
     "execution_count": 65,
     "metadata": {},
     "output_type": "execute_result"
    }
   ],
   "source": [
    "# Checking for missing values\n",
    "industry_df.isnull().sum()"
   ]
  },
  {
   "cell_type": "code",
   "execution_count": 66,
   "id": "7beaae75",
   "metadata": {},
   "outputs": [
    {
     "data": {
      "text/plain": [
       "0"
      ]
     },
     "execution_count": 66,
     "metadata": {},
     "output_type": "execute_result"
    }
   ],
   "source": [
    "# checking for duplicates \n",
    "industry_df.duplicated().sum()"
   ]
  },
  {
   "cell_type": "code",
   "execution_count": 67,
   "id": "e59417c6",
   "metadata": {},
   "outputs": [],
   "source": [
    "# Ensures consistency across datasets during merging, even if already int64\n",
    "industry_df['client_id'] = industry_df['client_id'].astype('int64')  "
   ]
  },
  {
   "cell_type": "code",
   "execution_count": 68,
   "id": "078e26fe",
   "metadata": {},
   "outputs": [],
   "source": [
    "# Cleaning categorical columns to remove whitespace and standardize format using title case\n",
    "industry_df['industry'] = industry_df['industry'].str.strip().str.title()\n",
    "industry_df['company_size'] = industry_df['company_size'].str.strip().str.title()\n",
    "industry_df['location'] = industry_df['location'].str.strip().str.title()"
   ]
  },
  {
   "cell_type": "code",
   "execution_count": 69,
   "id": "0792e234",
   "metadata": {},
   "outputs": [
    {
     "data": {
      "text/html": [
       "<div>\n",
       "<style scoped>\n",
       "    .dataframe tbody tr th:only-of-type {\n",
       "        vertical-align: middle;\n",
       "    }\n",
       "\n",
       "    .dataframe tbody tr th {\n",
       "        vertical-align: top;\n",
       "    }\n",
       "\n",
       "    .dataframe thead th {\n",
       "        text-align: right;\n",
       "    }\n",
       "</style>\n",
       "<table border=\"1\" class=\"dataframe\">\n",
       "  <thead>\n",
       "    <tr style=\"text-align: right;\">\n",
       "      <th></th>\n",
       "      <th>client_id</th>\n",
       "      <th>company_size</th>\n",
       "      <th>industry</th>\n",
       "      <th>location</th>\n",
       "    </tr>\n",
       "  </thead>\n",
       "  <tbody>\n",
       "    <tr>\n",
       "      <th>0</th>\n",
       "      <td>4280387012</td>\n",
       "      <td>Large</td>\n",
       "      <td>Finance Lending</td>\n",
       "      <td>Mumbai</td>\n",
       "    </tr>\n",
       "    <tr>\n",
       "      <th>1</th>\n",
       "      <td>2095513148</td>\n",
       "      <td>Small</td>\n",
       "      <td>Finance Lending</td>\n",
       "      <td>Chennai</td>\n",
       "    </tr>\n",
       "    <tr>\n",
       "      <th>2</th>\n",
       "      <td>7225516707</td>\n",
       "      <td>Medium</td>\n",
       "      <td>Finance Lending</td>\n",
       "      <td>New Delhi</td>\n",
       "    </tr>\n",
       "    <tr>\n",
       "      <th>3</th>\n",
       "      <td>8093537819</td>\n",
       "      <td>Large</td>\n",
       "      <td>Block Chain</td>\n",
       "      <td>Mumbai</td>\n",
       "    </tr>\n",
       "    <tr>\n",
       "      <th>4</th>\n",
       "      <td>4387541014</td>\n",
       "      <td>Medium</td>\n",
       "      <td>Hyper Local</td>\n",
       "      <td>Banglore</td>\n",
       "    </tr>\n",
       "  </tbody>\n",
       "</table>\n",
       "</div>"
      ],
      "text/plain": [
       "    client_id company_size         industry   location\n",
       "0  4280387012        Large  Finance Lending     Mumbai\n",
       "1  2095513148        Small  Finance Lending    Chennai\n",
       "2  7225516707       Medium  Finance Lending  New Delhi\n",
       "3  8093537819        Large      Block Chain     Mumbai\n",
       "4  4387541014       Medium      Hyper Local   Banglore"
      ]
     },
     "execution_count": 69,
     "metadata": {},
     "output_type": "execute_result"
    }
   ],
   "source": [
    "# Display Cleaned Dataset\n",
    "industry_df.head()"
   ]
  },
  {
   "cell_type": "code",
   "execution_count": 72,
   "id": "552b4caa",
   "metadata": {},
   "outputs": [
    {
     "name": "stdout",
     "output_type": "stream",
     "text": [
      "\n",
      "Company Size Distribution:\n",
      "Small     39\n",
      "Medium    32\n",
      "Large     29\n",
      "Name: company_size, dtype: int64\n",
      "\n",
      "Industry Distribution:\n",
      "Block Chain        25\n",
      "Finance Lending    22\n",
      "Gaming             22\n",
      "Hyper Local        20\n",
      "Ai                 11\n",
      "Name: industry, dtype: int64\n",
      "\n",
      "Location Distribution:\n",
      "Hyderabad    23\n",
      "Chennai      20\n",
      "New Delhi    20\n",
      "Banglore     20\n",
      "Mumbai       17\n",
      "Name: location, dtype: int64\n"
     ]
    }
   ],
   "source": [
    "# Categorical Value Distribution\n",
    "\n",
    "# Company size distribution\n",
    "print(\"\\nCompany Size Distribution:\")\n",
    "print(industry_df['company_size'].value_counts())\n",
    "\n",
    "# Industry distribution\n",
    "print(\"\\nIndustry Distribution:\")\n",
    "print(industry_df['industry'].value_counts())\n",
    "\n",
    "# Location distribution\n",
    "print(\"\\nLocation Distribution:\")\n",
    "print(industry_df['location'].value_counts())"
   ]
  },
  {
   "cell_type": "markdown",
   "id": "e576411a",
   "metadata": {},
   "source": [
    "Information about the columns\n",
    "1. `client_id` - it represents unique value assigned to each client ( PRIMARY KEY)\n",
    "2. `company_size` - indicates the scale of company (small, medium and large sacles)\n",
    "3. `industry` - information about the sector or industry the client operates\n",
    "4. `location` - Says about the city the client is located"
   ]
  },
  {
   "cell_type": "markdown",
   "id": "56e9824d",
   "metadata": {},
   "source": [
    "The industry dataset thave no missing values, no duplicates. I have cleaned categorical columns to remove whitespace and standardize format using title case. "
   ]
  },
  {
   "cell_type": "markdown",
   "id": "fc6cf464",
   "metadata": {},
   "source": [
    "How many finance lending and blockchain clients does the organization have?\n",
    "The organisation have 25 Block Chain Clients and 22 Finance Lending Clients. (Check in the Value counts)"
   ]
  },
  {
   "cell_type": "markdown",
   "id": "90405471",
   "metadata": {},
   "source": [
    "#### 3. Subscription Information Dataset"
   ]
  },
  {
   "cell_type": "code",
   "execution_count": 78,
   "id": "2e651e98",
   "metadata": {},
   "outputs": [
    {
     "data": {
      "text/html": [
       "<div>\n",
       "<style scoped>\n",
       "    .dataframe tbody tr th:only-of-type {\n",
       "        vertical-align: middle;\n",
       "    }\n",
       "\n",
       "    .dataframe tbody tr th {\n",
       "        vertical-align: top;\n",
       "    }\n",
       "\n",
       "    .dataframe thead th {\n",
       "        text-align: right;\n",
       "    }\n",
       "</style>\n",
       "<table border=\"1\" class=\"dataframe\">\n",
       "  <thead>\n",
       "    <tr style=\"text-align: right;\">\n",
       "      <th></th>\n",
       "      <th>client_id</th>\n",
       "      <th>subscription_type</th>\n",
       "      <th>start_date</th>\n",
       "      <th>end_date</th>\n",
       "      <th>renewed</th>\n",
       "    </tr>\n",
       "  </thead>\n",
       "  <tbody>\n",
       "    <tr>\n",
       "      <th>0</th>\n",
       "      <td>1131383004</td>\n",
       "      <td>Yearly</td>\n",
       "      <td>2020-11-11</td>\n",
       "      <td>2021-11-11</td>\n",
       "      <td>False</td>\n",
       "    </tr>\n",
       "    <tr>\n",
       "      <th>1</th>\n",
       "      <td>4309371709</td>\n",
       "      <td>Monthly</td>\n",
       "      <td>2021-05-24</td>\n",
       "      <td>2021-06-23</td>\n",
       "      <td>True</td>\n",
       "    </tr>\n",
       "    <tr>\n",
       "      <th>2</th>\n",
       "      <td>3183675157</td>\n",
       "      <td>Yearly</td>\n",
       "      <td>2021-12-25</td>\n",
       "      <td>2022-12-25</td>\n",
       "      <td>True</td>\n",
       "    </tr>\n",
       "    <tr>\n",
       "      <th>3</th>\n",
       "      <td>5371694837</td>\n",
       "      <td>Monthly</td>\n",
       "      <td>2020-03-14</td>\n",
       "      <td>2020-04-13</td>\n",
       "      <td>True</td>\n",
       "    </tr>\n",
       "    <tr>\n",
       "      <th>4</th>\n",
       "      <td>5157113076</td>\n",
       "      <td>Monthly</td>\n",
       "      <td>2019-11-07</td>\n",
       "      <td>2019-12-07</td>\n",
       "      <td>False</td>\n",
       "    </tr>\n",
       "  </tbody>\n",
       "</table>\n",
       "</div>"
      ],
      "text/plain": [
       "    client_id subscription_type  start_date    end_date  renewed\n",
       "0  1131383004            Yearly  2020-11-11  2021-11-11    False\n",
       "1  4309371709           Monthly  2021-05-24  2021-06-23     True\n",
       "2  3183675157            Yearly  2021-12-25  2022-12-25     True\n",
       "3  5371694837           Monthly  2020-03-14  2020-04-13     True\n",
       "4  5157113076           Monthly  2019-11-07  2019-12-07    False"
      ]
     },
     "execution_count": 78,
     "metadata": {},
     "output_type": "execute_result"
    }
   ],
   "source": [
    "# display first 5 rows\n",
    "subscription_df.head()"
   ]
  },
  {
   "cell_type": "code",
   "execution_count": 83,
   "id": "9b1f7e44",
   "metadata": {},
   "outputs": [
    {
     "data": {
      "text/plain": [
       "(100, 5)"
      ]
     },
     "execution_count": 83,
     "metadata": {},
     "output_type": "execute_result"
    }
   ],
   "source": [
    "# no of rows and Columns\n",
    "subscription_df.shape"
   ]
  },
  {
   "cell_type": "code",
   "execution_count": 80,
   "id": "1d10b4b9",
   "metadata": {},
   "outputs": [
    {
     "name": "stdout",
     "output_type": "stream",
     "text": [
      "<class 'pandas.core.frame.DataFrame'>\n",
      "RangeIndex: 100 entries, 0 to 99\n",
      "Data columns (total 5 columns):\n",
      " #   Column             Non-Null Count  Dtype \n",
      "---  ------             --------------  ----- \n",
      " 0   client_id          100 non-null    int64 \n",
      " 1   subscription_type  100 non-null    object\n",
      " 2   start_date         100 non-null    object\n",
      " 3   end_date           100 non-null    object\n",
      " 4   renewed            100 non-null    bool  \n",
      "dtypes: bool(1), int64(1), object(3)\n",
      "memory usage: 3.3+ KB\n"
     ]
    }
   ],
   "source": [
    "# information about dataset\n",
    "subscription_df.info()"
   ]
  },
  {
   "cell_type": "code",
   "execution_count": 84,
   "id": "bdbe1b88",
   "metadata": {},
   "outputs": [
    {
     "data": {
      "text/plain": [
       "client_id            0\n",
       "subscription_type    0\n",
       "start_date           0\n",
       "end_date             0\n",
       "renewed              0\n",
       "dtype: int64"
      ]
     },
     "execution_count": 84,
     "metadata": {},
     "output_type": "execute_result"
    }
   ],
   "source": [
    "# Checking for missing values\n",
    "subscription_df.isnull().sum()"
   ]
  },
  {
   "cell_type": "code",
   "execution_count": 85,
   "id": "d529a5ec",
   "metadata": {},
   "outputs": [
    {
     "data": {
      "text/plain": [
       "0"
      ]
     },
     "execution_count": 85,
     "metadata": {},
     "output_type": "execute_result"
    }
   ],
   "source": [
    "# checking for duplicate values\n",
    "subscription_df.duplicated().sum()"
   ]
  },
  {
   "cell_type": "code",
   "execution_count": 86,
   "id": "b1cb0da9",
   "metadata": {},
   "outputs": [],
   "source": [
    "# Ensure client_id is of type int64\n",
    "subscription_df['client_id'] = subscription_df['client_id'].astype('int64')"
   ]
  },
  {
   "cell_type": "code",
   "execution_count": 87,
   "id": "40ed68b9",
   "metadata": {},
   "outputs": [],
   "source": [
    "# Convert start_date and end_date columns to datetime format\n",
    "subscription_df['start_date'] = pd.to_datetime(subscription_df['start_date'])\n",
    "subscription_df['end_date'] = pd.to_datetime(subscription_df['end_date'])"
   ]
  },
  {
   "cell_type": "code",
   "execution_count": 91,
   "id": "00c5c1b2",
   "metadata": {
    "scrolled": true
   },
   "outputs": [
    {
     "name": "stdout",
     "output_type": "stream",
     "text": [
      "\n",
      "Data Types After Cleaning:\n",
      "client_id                     int64\n",
      "subscription_type            object\n",
      "start_date           datetime64[ns]\n",
      "end_date             datetime64[ns]\n",
      "renewed                        bool\n",
      "dtype: object\n"
     ]
    }
   ],
   "source": [
    "# Verify data types after cleaning\n",
    "print(\"\\nData Types After Cleaning:\")\n",
    "print(subscription_df.dtypes)"
   ]
  },
  {
   "cell_type": "code",
   "execution_count": 97,
   "id": "0c0028d6",
   "metadata": {},
   "outputs": [
    {
     "name": "stdout",
     "output_type": "stream",
     "text": [
      "\n",
      "Subscribtion type count:\n",
      "Monthly    57\n",
      "Yearly     43\n",
      "Name: subscription_type, dtype: int64\n",
      "\n",
      "Renewal Count:\n",
      "True     55\n",
      "False    45\n",
      "Name: renewed, dtype: int64\n"
     ]
    }
   ],
   "source": [
    "# Subscription Types distribution\n",
    "print(\"\\nSubscribtion type count:\")\n",
    "print(subscription_df['subscription_type'].value_counts())\n",
    "\n",
    "# Renewed or Not Distribution\n",
    "print(\"\\nRenewal Count:\")\n",
    "print(subscription_df['renewed'].value_counts())\n"
   ]
  },
  {
   "cell_type": "code",
   "execution_count": 90,
   "id": "4afdfe60",
   "metadata": {},
   "outputs": [
    {
     "data": {
      "text/html": [
       "<div>\n",
       "<style scoped>\n",
       "    .dataframe tbody tr th:only-of-type {\n",
       "        vertical-align: middle;\n",
       "    }\n",
       "\n",
       "    .dataframe tbody tr th {\n",
       "        vertical-align: top;\n",
       "    }\n",
       "\n",
       "    .dataframe thead th {\n",
       "        text-align: right;\n",
       "    }\n",
       "</style>\n",
       "<table border=\"1\" class=\"dataframe\">\n",
       "  <thead>\n",
       "    <tr style=\"text-align: right;\">\n",
       "      <th></th>\n",
       "      <th>client_id</th>\n",
       "      <th>subscription_type</th>\n",
       "      <th>start_date</th>\n",
       "      <th>end_date</th>\n",
       "      <th>renewed</th>\n",
       "    </tr>\n",
       "  </thead>\n",
       "  <tbody>\n",
       "    <tr>\n",
       "      <th>0</th>\n",
       "      <td>1131383004</td>\n",
       "      <td>Yearly</td>\n",
       "      <td>2020-11-11</td>\n",
       "      <td>2021-11-11</td>\n",
       "      <td>False</td>\n",
       "    </tr>\n",
       "    <tr>\n",
       "      <th>1</th>\n",
       "      <td>4309371709</td>\n",
       "      <td>Monthly</td>\n",
       "      <td>2021-05-24</td>\n",
       "      <td>2021-06-23</td>\n",
       "      <td>True</td>\n",
       "    </tr>\n",
       "    <tr>\n",
       "      <th>2</th>\n",
       "      <td>3183675157</td>\n",
       "      <td>Yearly</td>\n",
       "      <td>2021-12-25</td>\n",
       "      <td>2022-12-25</td>\n",
       "      <td>True</td>\n",
       "    </tr>\n",
       "    <tr>\n",
       "      <th>3</th>\n",
       "      <td>5371694837</td>\n",
       "      <td>Monthly</td>\n",
       "      <td>2020-03-14</td>\n",
       "      <td>2020-04-13</td>\n",
       "      <td>True</td>\n",
       "    </tr>\n",
       "    <tr>\n",
       "      <th>4</th>\n",
       "      <td>5157113076</td>\n",
       "      <td>Monthly</td>\n",
       "      <td>2019-11-07</td>\n",
       "      <td>2019-12-07</td>\n",
       "      <td>False</td>\n",
       "    </tr>\n",
       "  </tbody>\n",
       "</table>\n",
       "</div>"
      ],
      "text/plain": [
       "    client_id subscription_type start_date   end_date  renewed\n",
       "0  1131383004            Yearly 2020-11-11 2021-11-11    False\n",
       "1  4309371709           Monthly 2021-05-24 2021-06-23     True\n",
       "2  3183675157            Yearly 2021-12-25 2022-12-25     True\n",
       "3  5371694837           Monthly 2020-03-14 2020-04-13     True\n",
       "4  5157113076           Monthly 2019-11-07 2019-12-07    False"
      ]
     },
     "execution_count": 90,
     "metadata": {},
     "output_type": "execute_result"
    }
   ],
   "source": [
    "# Display cleaned dataset\n",
    "subscription_df.head()"
   ]
  },
  {
   "cell_type": "markdown",
   "id": "3d0d6517",
   "metadata": {},
   "source": [
    "#### Summary\n",
    "\n",
    "1. `client_id` - Unique ID for each client (used to link with other datasets)\n",
    "2. `subscription_type` - Type of subscription (`Monthly` or `Yearly`)\n",
    "3. `start_date` - Date when the subscription started\n",
    "4. `end_date` - Date when the subscription ended\n",
    "5. `renewed` - `True` if the client renewed the subscription, else `False`\n",
    "\n",
    "The subscription dataset has no missing and duplicate values. And converted start_date, end_date columns into datetime format"
   ]
  },
  {
   "cell_type": "markdown",
   "id": "b4838864",
   "metadata": {},
   "source": [
    "#### 4. Payments Datset"
   ]
  },
  {
   "cell_type": "code",
   "execution_count": 94,
   "id": "d630a38b",
   "metadata": {},
   "outputs": [
    {
     "data": {
      "text/html": [
       "<div>\n",
       "<style scoped>\n",
       "    .dataframe tbody tr th:only-of-type {\n",
       "        vertical-align: middle;\n",
       "    }\n",
       "\n",
       "    .dataframe tbody tr th {\n",
       "        vertical-align: top;\n",
       "    }\n",
       "\n",
       "    .dataframe thead th {\n",
       "        text-align: right;\n",
       "    }\n",
       "</style>\n",
       "<table border=\"1\" class=\"dataframe\">\n",
       "  <thead>\n",
       "    <tr style=\"text-align: right;\">\n",
       "      <th></th>\n",
       "      <th>client_id</th>\n",
       "      <th>payment_date</th>\n",
       "      <th>amount_paid</th>\n",
       "      <th>payment_method</th>\n",
       "    </tr>\n",
       "  </thead>\n",
       "  <tbody>\n",
       "    <tr>\n",
       "      <th>0</th>\n",
       "      <td>6292156167</td>\n",
       "      <td>9/16/2019</td>\n",
       "      <td>447.0</td>\n",
       "      <td>Bank Transfer</td>\n",
       "    </tr>\n",
       "    <tr>\n",
       "      <th>1</th>\n",
       "      <td>7462725203</td>\n",
       "      <td>5/21/2018</td>\n",
       "      <td>379.7</td>\n",
       "      <td>Bank Transfer</td>\n",
       "    </tr>\n",
       "    <tr>\n",
       "      <th>2</th>\n",
       "      <td>4698004907</td>\n",
       "      <td>9/11/2021</td>\n",
       "      <td>435.1</td>\n",
       "      <td>Check</td>\n",
       "    </tr>\n",
       "    <tr>\n",
       "      <th>3</th>\n",
       "      <td>3510240337</td>\n",
       "      <td>12/7/2020</td>\n",
       "      <td>413.1</td>\n",
       "      <td>Check</td>\n",
       "    </tr>\n",
       "    <tr>\n",
       "      <th>4</th>\n",
       "      <td>7501599785</td>\n",
       "      <td>3/4/2019</td>\n",
       "      <td>61.1</td>\n",
       "      <td>Bank Transfer</td>\n",
       "    </tr>\n",
       "  </tbody>\n",
       "</table>\n",
       "</div>"
      ],
      "text/plain": [
       "    client_id payment_date  amount_paid payment_method\n",
       "0  6292156167    9/16/2019        447.0  Bank Transfer\n",
       "1  7462725203    5/21/2018        379.7  Bank Transfer\n",
       "2  4698004907    9/11/2021        435.1          Check\n",
       "3  3510240337    12/7/2020        413.1          Check\n",
       "4  7501599785     3/4/2019         61.1  Bank Transfer"
      ]
     },
     "execution_count": 94,
     "metadata": {},
     "output_type": "execute_result"
    }
   ],
   "source": [
    "# show first 5 rows\n",
    "payments_df.head()"
   ]
  },
  {
   "cell_type": "code",
   "execution_count": 98,
   "id": "de69da76",
   "metadata": {},
   "outputs": [
    {
     "name": "stdout",
     "output_type": "stream",
     "text": [
      "<class 'pandas.core.frame.DataFrame'>\n",
      "RangeIndex: 100 entries, 0 to 99\n",
      "Data columns (total 4 columns):\n",
      " #   Column          Non-Null Count  Dtype  \n",
      "---  ------          --------------  -----  \n",
      " 0   client_id       100 non-null    int64  \n",
      " 1   payment_date    100 non-null    object \n",
      " 2   amount_paid     100 non-null    float64\n",
      " 3   payment_method  100 non-null    object \n",
      "dtypes: float64(1), int64(1), object(2)\n",
      "memory usage: 3.2+ KB\n"
     ]
    }
   ],
   "source": [
    "# Information about datset\n",
    "payments_df.info()"
   ]
  },
  {
   "cell_type": "code",
   "execution_count": 99,
   "id": "49e5d722",
   "metadata": {},
   "outputs": [
    {
     "data": {
      "text/plain": [
       "(100, 4)"
      ]
     },
     "execution_count": 99,
     "metadata": {},
     "output_type": "execute_result"
    }
   ],
   "source": [
    "# checking shape\n",
    "payments_df.shape"
   ]
  },
  {
   "cell_type": "code",
   "execution_count": 100,
   "id": "905a92d4",
   "metadata": {},
   "outputs": [
    {
     "data": {
      "text/plain": [
       "client_id         0\n",
       "payment_date      0\n",
       "amount_paid       0\n",
       "payment_method    0\n",
       "dtype: int64"
      ]
     },
     "execution_count": 100,
     "metadata": {},
     "output_type": "execute_result"
    }
   ],
   "source": [
    "# Checking for null values\n",
    "payments_df.isnull().sum()"
   ]
  },
  {
   "cell_type": "code",
   "execution_count": 101,
   "id": "c56e92c0",
   "metadata": {},
   "outputs": [
    {
     "data": {
      "text/plain": [
       "0"
      ]
     },
     "execution_count": 101,
     "metadata": {},
     "output_type": "execute_result"
    }
   ],
   "source": [
    "# Checking for duplicate values\n",
    "payments_df.duplicated().sum()"
   ]
  },
  {
   "cell_type": "code",
   "execution_count": 103,
   "id": "5a5b16eb",
   "metadata": {},
   "outputs": [],
   "source": [
    "# Ensure client_id is of type int64\n",
    "payments_df['client_id'] = payments_df['client_id'].astype('int64')"
   ]
  },
  {
   "cell_type": "code",
   "execution_count": 104,
   "id": "df569745",
   "metadata": {},
   "outputs": [],
   "source": [
    "# Convert payment_date to datetime format\n",
    "payments_df['payment_date'] = pd.to_datetime(payments_df['payment_date'])"
   ]
  },
  {
   "cell_type": "code",
   "execution_count": 105,
   "id": "29d03646",
   "metadata": {},
   "outputs": [],
   "source": [
    "# Clean and standardize payment_method (strip spaces, apply title case)\n",
    "payments_df['payment_method'] = payments_df['payment_method'].str.strip().str.title()"
   ]
  },
  {
   "cell_type": "code",
   "execution_count": 106,
   "id": "d1f63c81",
   "metadata": {},
   "outputs": [],
   "source": [
    "# Ensure amount_paid is a clean float column\n",
    "payment_df['amount_paid'] = pd.to_numeric(payment_df['amount_paid'], errors='coerce')"
   ]
  },
  {
   "cell_type": "code",
   "execution_count": 107,
   "id": "14a833af",
   "metadata": {},
   "outputs": [
    {
     "data": {
      "text/plain": [
       "client_id           int64\n",
       "payment_date       object\n",
       "amount_paid       float64\n",
       "payment_method     object\n",
       "dtype: object"
      ]
     },
     "execution_count": 107,
     "metadata": {},
     "output_type": "execute_result"
    }
   ],
   "source": [
    "# Verify data types after cleaning\n",
    "payment_df.dtypes"
   ]
  },
  {
   "cell_type": "code",
   "execution_count": 110,
   "id": "b925c93c",
   "metadata": {},
   "outputs": [
    {
     "name": "stdout",
     "output_type": "stream",
     "text": [
      "\n",
      "Types of payment methods:\n",
      "Bank Transfer    38\n",
      "Check            31\n",
      "Credit Card      31\n",
      "Name: payment_method, dtype: int64\n"
     ]
    }
   ],
   "source": [
    "# Payments Method Distribution\n",
    "print(\"\\nTypes of payment methods:\")\n",
    "print(payments_df['payment_method'].value_counts())"
   ]
  },
  {
   "cell_type": "code",
   "execution_count": 111,
   "id": "65390959",
   "metadata": {},
   "outputs": [
    {
     "data": {
      "text/html": [
       "<div>\n",
       "<style scoped>\n",
       "    .dataframe tbody tr th:only-of-type {\n",
       "        vertical-align: middle;\n",
       "    }\n",
       "\n",
       "    .dataframe tbody tr th {\n",
       "        vertical-align: top;\n",
       "    }\n",
       "\n",
       "    .dataframe thead th {\n",
       "        text-align: right;\n",
       "    }\n",
       "</style>\n",
       "<table border=\"1\" class=\"dataframe\">\n",
       "  <thead>\n",
       "    <tr style=\"text-align: right;\">\n",
       "      <th></th>\n",
       "      <th>client_id</th>\n",
       "      <th>payment_date</th>\n",
       "      <th>amount_paid</th>\n",
       "      <th>payment_method</th>\n",
       "    </tr>\n",
       "  </thead>\n",
       "  <tbody>\n",
       "    <tr>\n",
       "      <th>0</th>\n",
       "      <td>6292156167</td>\n",
       "      <td>9/16/2019</td>\n",
       "      <td>447.0</td>\n",
       "      <td>Bank Transfer</td>\n",
       "    </tr>\n",
       "    <tr>\n",
       "      <th>1</th>\n",
       "      <td>7462725203</td>\n",
       "      <td>5/21/2018</td>\n",
       "      <td>379.7</td>\n",
       "      <td>Bank Transfer</td>\n",
       "    </tr>\n",
       "    <tr>\n",
       "      <th>2</th>\n",
       "      <td>4698004907</td>\n",
       "      <td>9/11/2021</td>\n",
       "      <td>435.1</td>\n",
       "      <td>Check</td>\n",
       "    </tr>\n",
       "    <tr>\n",
       "      <th>3</th>\n",
       "      <td>3510240337</td>\n",
       "      <td>12/7/2020</td>\n",
       "      <td>413.1</td>\n",
       "      <td>Check</td>\n",
       "    </tr>\n",
       "    <tr>\n",
       "      <th>4</th>\n",
       "      <td>7501599785</td>\n",
       "      <td>3/4/2019</td>\n",
       "      <td>61.1</td>\n",
       "      <td>Bank Transfer</td>\n",
       "    </tr>\n",
       "  </tbody>\n",
       "</table>\n",
       "</div>"
      ],
      "text/plain": [
       "    client_id payment_date  amount_paid payment_method\n",
       "0  6292156167    9/16/2019        447.0  Bank Transfer\n",
       "1  7462725203    5/21/2018        379.7  Bank Transfer\n",
       "2  4698004907    9/11/2021        435.1          Check\n",
       "3  3510240337    12/7/2020        413.1          Check\n",
       "4  7501599785     3/4/2019         61.1  Bank Transfer"
      ]
     },
     "execution_count": 111,
     "metadata": {},
     "output_type": "execute_result"
    }
   ],
   "source": [
    "# Display Cleaned Data Set\n",
    "payment_df.head()"
   ]
  },
  {
   "cell_type": "markdown",
   "id": "1bcea74c",
   "metadata": {},
   "source": [
    "Now we are done with Data Loading, Cleaning and Transforming, the datasets can be used for Data Visualization. \n",
    "\n",
    "With the help of the plots, We can answer the questions."
   ]
  },
  {
   "cell_type": "markdown",
   "id": "da27da2b",
   "metadata": {},
   "source": [
    "#### Question 1: How many finance lending and blockchain clients does the organization have?"
   ]
  },
  {
   "cell_type": "markdown",
   "id": "cfd764e2",
   "metadata": {},
   "source": [
    "**Approach:**\n",
    "1. Using industry_df\n",
    "2. Filter rows where industry is \"Finance Lending\" or \"Block Chain\"\n",
    "3. Count them\n",
    "4. Visualize using a bar plot for better clarity"
   ]
  },
  {
   "cell_type": "code",
   "execution_count": 141,
   "id": "ffc15d27",
   "metadata": {},
   "outputs": [
    {
     "data": {
      "image/png": "[encoded data removed]",
      "text/plain": [
       "<Figure size 600x400 with 1 Axes>"
      ]
     },
     "metadata": {},
     "output_type": "display_data"
    },
    {
     "name": "stdout",
     "output_type": "stream",
     "text": [
      "Total Target Clients (Finance + Blockchain): 47\n",
      "\n",
      "Breakdown:\n",
      "Block Chain        25\n",
      "Finance Lending    22\n",
      "Name: industry, dtype: int64\n"
     ]
    }
   ],
   "source": [
    "# Filter the dataset for required industries\n",
    "target_industries = ['Finance Lending', 'Block Chain']\n",
    "filtered_clients = industry_df[industry_df['industry'].isin(target_industries)]\n",
    "\n",
    "# Count number of clients in each industry\n",
    "industry_counts = filtered_clients['industry'].value_counts()\n",
    "\n",
    "# Plotting the result\n",
    "plt.figure(figsize=(6, 4))\n",
    "ax = sns.barplot(x=industry_counts.index, y=industry_counts.values)\n",
    "\n",
    "# Add renewal rate labels on top of bars\n",
    "for i, v in enumerate(industry_counts.values):\n",
    "    ax.text(i, v+0.2, str(v), ha='center', fontsize=10)\n",
    "    \n",
    "plt.title(\"Number of Clients in Finance Lending & Blockchain Industries\")\n",
    "plt.xlabel(\"Industry\")\n",
    "plt.ylabel(\"Number of Clients\")\n",
    "plt.show()\n",
    "\n",
    "# Print count values for report\n",
    "total_clients = industry_counts.sum()\n",
    "print(\"Total Target Clients (Finance + Blockchain):\", total_clients)\n",
    "print(\"\\nBreakdown:\")\n",
    "print(industry_counts)\n"
   ]
  },
  {
   "cell_type": "markdown",
   "id": "c413b01a",
   "metadata": {},
   "source": [
    "**Question 2: Which industry in the organization has the highest renewal rate?**"
   ]
  },
  {
   "cell_type": "markdown",
   "id": "e6739e0c",
   "metadata": {},
   "source": [
    "**Approach:**\n",
    "\n",
    "1. Will Merge datastes: subscription_df + industry_df on `clients_id`\n",
    "2. Group by industry and calculate:<br>\n",
    "Revenew Rate = (Number of Renewed Clients/Total Clients in that Industry)\n",
    "3. Sort industries by renewal rate\n",
    "4. Visualize using a bar plot with value labels"
   ]
  },
  {
   "cell_type": "code",
   "execution_count": 148,
   "id": "f3ec2c90",
   "metadata": {},
   "outputs": [
    {
     "data": {
      "image/png": "[encoded data removed]",
      "text/plain": [
       "<Figure size 800x500 with 1 Axes>"
      ]
     },
     "metadata": {},
     "output_type": "display_data"
    },
    {
     "name": "stdout",
     "output_type": "stream",
     "text": [
      "The industry with the highest renewal rate is Gaming with 0.73\n"
     ]
    }
   ],
   "source": [
    "# Merge subscription and industry data on client_id\n",
    "merged = pd.merge(subscription_df, industry_df, on='client_id')\n",
    "\n",
    "# Group by industry and calculate average of 'renewed' (which gives the renewal rate)\n",
    "renewal_rate = merged.groupby('industry')['renewed'].mean().sort_values(ascending=False)\n",
    "\n",
    "# Plot using seaborn with value labels\n",
    "plt.figure(figsize=(8, 5))\n",
    "ax = sns.barplot(x=renewal_rate.index, y=renewal_rate.values)\n",
    "\n",
    "# Add renewal rate labels on top of bars\n",
    "for i, v in enumerate(renewal_rate.values):\n",
    "    ax.text(i, v + 0.01, f\"{v:.2f}\", ha='center', fontsize=10)\n",
    "\n",
    "plt.title(\"Renewal Rate by Industry\")\n",
    "plt.xlabel(\"Industry\")\n",
    "plt.ylabel(\"Renewal Rate\")\n",
    "plt.show()\n",
    "\n",
    "# Display the industry with the highest renewal rate\n",
    "top_industry = renewal_rate.idxmax()\n",
    "top_rate = renewal_rate.max()\n",
    "\n",
    "print(f\"The industry with the highest renewal rate is {top_industry} with {top_rate:.2f}\")"
   ]
  },
  {
   "cell_type": "markdown",
   "id": "89e02d97",
   "metadata": {},
   "source": [
    "**Question 3: What was the average inflation rate when their subscriptions were renewed?**"
   ]
  },
  {
   "cell_type": "markdown",
   "id": "e77122fc",
   "metadata": {},
   "source": [
    "**Approach:**\n",
    "1. From `subscription_df`, filter rows where `renewed == True`\n",
    "2. For each renewed subscription, find the matching row in `financial_df` where:<br>\n",
    "The subscription's `start_date` (or `end_date`) falls between the financial `start_date` and `end_date`\n",
    "3. From those matched financial periods, get the `inflation_rate`\n",
    "4. Calculate the average inflation rate for all renewed subscriptions"
   ]
  },
  {
   "cell_type": "code",
   "execution_count": 153,
   "id": "d1f59524",
   "metadata": {},
   "outputs": [
    {
     "name": "stdout",
     "output_type": "stream",
     "text": [
      "Average inflation rate during renewals: 4.44 %\n",
      "    client_id  start_date  inflation_rate\n",
      "1  4309371709  2021-05-24            0.76\n",
      "2  3183675157  2021-12-25            7.32\n",
      "3  5371694837  2020-03-14            4.40\n",
      "5  7896208406  2022-02-24            6.76\n",
      "6  4687291312  2019-06-14            3.84\n"
     ]
    }
   ],
   "source": [
    "# Keep only the subscriptions that were renewed\n",
    "renewed_data = subscription_df[subscription_df['renewed'] == True].copy()\n",
    "\n",
    "# Add a new column to store matching inflation rates\n",
    "renewed_data['inflation_rate'] = None\n",
    "\n",
    "# Go through each renewed subscription and find its matching finanical period\n",
    "for i in renewed_data.index:\n",
    "    sub_date = renewed_data.loc[i, 'start_date']  # get the subscription start date\n",
    "\n",
    "    # Find where this date fits in the finanical period\n",
    "    match = finanical_df[\n",
    "        (finanical_df['start_date'] <= sub_date) &\n",
    "        (finanical_df['end_date'] >= sub_date)\n",
    "    ]\n",
    "\n",
    "    # If we find a match, save the inflation rate\n",
    "    if not match.empty:\n",
    "        renewed_data.at[i, 'inflation_rate'] = match.iloc[0]['inflation_rate']\n",
    "\n",
    "# Make sure inflation_rate is treated as a number\n",
    "renewed_data['inflation_rate'] = pd.to_numeric(renewed_data['inflation_rate'])\n",
    "\n",
    "# Calculate the average inflation rate\n",
    "average_inflation = renewed_data['inflation_rate'].mean()\n",
    "\n",
    "# Print the result\n",
    "print(\"Average inflation rate during renewals:\", round(average_inflation, 2), \"%\")\n",
    "\n",
    "# Show a few sample rows\n",
    "print(renewed_data[['client_id', 'start_date', 'inflation_rate']].head())\n"
   ]
  },
  {
   "cell_type": "markdown",
   "id": "b109bbc6",
   "metadata": {},
   "source": [
    "- **`.copy()`**: Makes a separate copy of the data so changes don’t affect the original.\n",
    "- **`.loc[]`**: Lets us get or update values using labels (like column names).\n",
    "- **`.iloc[]`**: Lets us get values using row numbers (positions)."
   ]
  },
  {
   "cell_type": "markdown",
   "id": "e6031973",
   "metadata": {},
   "source": [
    "**Question 4: What is the median amount paid each year for all payment methods?**"
   ]
  },
  {
   "cell_type": "markdown",
   "id": "9aeb9d41",
   "metadata": {},
   "source": [
    "**Approach:**\n",
    "1. Use the `payments_df` dataset\n",
    "2. Extract year from the `payment_date` column\n",
    "3. Group by `year` and `payment_method`\n",
    "4. Calculate the median of `amount_paid` for each group\n",
    "5. Visualize using a grouped bar plot by year & payment method"
   ]
  },
  {
   "cell_type": "code",
   "execution_count": 177,
   "id": "9c42ac97",
   "metadata": {},
   "outputs": [
    {
     "data": {
      "image/png": "[encoded data removed]",
      "text/plain": [
       "<Figure size 1000x600 with 1 Axes>"
      ]
     },
     "metadata": {},
     "output_type": "display_data"
    }
   ],
   "source": [
    "# Add a new column to extract the year from payments_date\n",
    "payments_df['year'] = payments_df['payment_date'].dt.year\n",
    "\n",
    "# Group by year and payments method, then find the median amount paid\n",
    "median_by_year = payments_df.groupby(['year', 'payment_method'])['amount_paid'].median().reset_index()\n",
    "\n",
    "# Set the size of the chart\n",
    "plt.figure(figsize=(10, 6))\n",
    "\n",
    "# Create the barplot\n",
    "ax = sns.barplot(\n",
    "    data=median_by_year,\n",
    "    x='year',\n",
    "    y='amount_paid',\n",
    "    hue='payment_method',\n",
    "    palette='Set1'\n",
    ")\n",
    "\n",
    "# Add value labels on top of each bar\n",
    "for bar in ax.patches:\n",
    "    height = bar.get_height()\n",
    "    ax.annotate(f'{height:.0f}',  # value rounded to 0 decimals\n",
    "                xy=(bar.get_x() + bar.get_width() / 2, height),  # label position\n",
    "                xytext=(0, 5),  # offset\n",
    "                textcoords='offset points',\n",
    "                ha='center', va='bottom', fontsize=9)\n",
    "\n",
    "# Set labels and title\n",
    "plt.title(\"Median Amount Paid Each Year by Payment Method\")\n",
    "plt.xlabel(\"Year\")\n",
    "plt.ylabel(\"Median Amount Paid\")\n",
    "plt.legend(title=\"Payment Method\")\n",
    "plt.tight_layout()\n",
    "plt.show()"
   ]
  },
  {
   "cell_type": "markdown",
   "id": "5be4006b",
   "metadata": {},
   "source": [
    "Adding a separate `year` column makes it easy to group and compare payments by year. It also makes the chart cleaner and the x-axis labels clearer.\n",
    "\n",
    "Below are the median payment amounts made by clients for each payment method, year by year:\n",
    "\n",
    "| Year | Payment Method | Median Amount Paid |\n",
    "|------|----------------|--------------------|\n",
    "| 2018 | Bank Transfer  | 282                |\n",
    "| 2018 | Check          | 217                |\n",
    "| 2018 | Credit Card    | 229                |\n",
    "| 2019 | Bank Transfer  | 184                |\n",
    "| 2019 | Check          | 410                |\n",
    "| 2019 | Credit Card    | 402                |\n",
    "| 2020 | Bank Transfer  | 225                |\n",
    "| 2020 | Check          | 413                |\n",
    "| 2020 | Credit Card    | 285                |\n",
    "| 2021 | Bank Transfer  | 255                |\n",
    "| 2021 | Check          | 435                |\n",
    "| 2021 | Credit Card    | 209                |\n",
    "| 2022 | Bank Transfer  | 196                |\n",
    "| 2022 | Check          | 276                |\n",
    "| 2022 | Credit Card    | 326                |"
   ]
  }
 ],
 "metadata": {
  "kernelspec": {
   "display_name": "Python 3 (ipykernel)",
   "language": "python",
   "name": "python3"
  },
  "language_info": {
   "codemirror_mode": {
    "name": "ipython",
    "version": 3
   },
   "file_extension": ".py",
   "mimetype": "text/x-python",
   "name": "python",
   "nbconvert_exporter": "python",
   "pygments_lexer": "ipython3",
   "version": "3.9.13"
  }
 },
 "nbformat": 4,
 "nbformat_minor": 5
}
